{
 "cells": [
  {
   "cell_type": "code",
   "execution_count": 2,
   "metadata": {
    "collapsed": true,
    "ExecuteTime": {
     "end_time": "2023-07-29T13:26:17.348681790Z",
     "start_time": "2023-07-29T13:26:11.052473538Z"
    }
   },
   "outputs": [
    {
     "data": {
      "text/plain": "RandomForestClassifier(random_state=0)",
      "text/html": "<style>#sk-container-id-1 {color: black;background-color: white;}#sk-container-id-1 pre{padding: 0;}#sk-container-id-1 div.sk-toggleable {background-color: white;}#sk-container-id-1 label.sk-toggleable__label {cursor: pointer;display: block;width: 100%;margin-bottom: 0;padding: 0.3em;box-sizing: border-box;text-align: center;}#sk-container-id-1 label.sk-toggleable__label-arrow:before {content: \"▸\";float: left;margin-right: 0.25em;color: #696969;}#sk-container-id-1 label.sk-toggleable__label-arrow:hover:before {color: black;}#sk-container-id-1 div.sk-estimator:hover label.sk-toggleable__label-arrow:before {color: black;}#sk-container-id-1 div.sk-toggleable__content {max-height: 0;max-width: 0;overflow: hidden;text-align: left;background-color: #f0f8ff;}#sk-container-id-1 div.sk-toggleable__content pre {margin: 0.2em;color: black;border-radius: 0.25em;background-color: #f0f8ff;}#sk-container-id-1 input.sk-toggleable__control:checked~div.sk-toggleable__content {max-height: 200px;max-width: 100%;overflow: auto;}#sk-container-id-1 input.sk-toggleable__control:checked~label.sk-toggleable__label-arrow:before {content: \"▾\";}#sk-container-id-1 div.sk-estimator input.sk-toggleable__control:checked~label.sk-toggleable__label {background-color: #d4ebff;}#sk-container-id-1 div.sk-label input.sk-toggleable__control:checked~label.sk-toggleable__label {background-color: #d4ebff;}#sk-container-id-1 input.sk-hidden--visually {border: 0;clip: rect(1px 1px 1px 1px);clip: rect(1px, 1px, 1px, 1px);height: 1px;margin: -1px;overflow: hidden;padding: 0;position: absolute;width: 1px;}#sk-container-id-1 div.sk-estimator {font-family: monospace;background-color: #f0f8ff;border: 1px dotted black;border-radius: 0.25em;box-sizing: border-box;margin-bottom: 0.5em;}#sk-container-id-1 div.sk-estimator:hover {background-color: #d4ebff;}#sk-container-id-1 div.sk-parallel-item::after {content: \"\";width: 100%;border-bottom: 1px solid gray;flex-grow: 1;}#sk-container-id-1 div.sk-label:hover label.sk-toggleable__label {background-color: #d4ebff;}#sk-container-id-1 div.sk-serial::before {content: \"\";position: absolute;border-left: 1px solid gray;box-sizing: border-box;top: 0;bottom: 0;left: 50%;z-index: 0;}#sk-container-id-1 div.sk-serial {display: flex;flex-direction: column;align-items: center;background-color: white;padding-right: 0.2em;padding-left: 0.2em;position: relative;}#sk-container-id-1 div.sk-item {position: relative;z-index: 1;}#sk-container-id-1 div.sk-parallel {display: flex;align-items: stretch;justify-content: center;background-color: white;position: relative;}#sk-container-id-1 div.sk-item::before, #sk-container-id-1 div.sk-parallel-item::before {content: \"\";position: absolute;border-left: 1px solid gray;box-sizing: border-box;top: 0;bottom: 0;left: 50%;z-index: -1;}#sk-container-id-1 div.sk-parallel-item {display: flex;flex-direction: column;z-index: 1;position: relative;background-color: white;}#sk-container-id-1 div.sk-parallel-item:first-child::after {align-self: flex-end;width: 50%;}#sk-container-id-1 div.sk-parallel-item:last-child::after {align-self: flex-start;width: 50%;}#sk-container-id-1 div.sk-parallel-item:only-child::after {width: 0;}#sk-container-id-1 div.sk-dashed-wrapped {border: 1px dashed gray;margin: 0 0.4em 0.5em 0.4em;box-sizing: border-box;padding-bottom: 0.4em;background-color: white;}#sk-container-id-1 div.sk-label label {font-family: monospace;font-weight: bold;display: inline-block;line-height: 1.2em;}#sk-container-id-1 div.sk-label-container {text-align: center;}#sk-container-id-1 div.sk-container {/* jupyter's `normalize.less` sets `[hidden] { display: none; }` but bootstrap.min.css set `[hidden] { display: none !important; }` so we also need the `!important` here to be able to override the default hidden behavior on the sphinx rendered scikit-learn.org. See: https://github.com/scikit-learn/scikit-learn/issues/21755 */display: inline-block !important;position: relative;}#sk-container-id-1 div.sk-text-repr-fallback {display: none;}</style><div id=\"sk-container-id-1\" class=\"sk-top-container\"><div class=\"sk-text-repr-fallback\"><pre>RandomForestClassifier(random_state=0)</pre><b>In a Jupyter environment, please rerun this cell to show the HTML representation or trust the notebook. <br />On GitHub, the HTML representation is unable to render, please try loading this page with nbviewer.org.</b></div><div class=\"sk-container\" hidden><div class=\"sk-item\"><div class=\"sk-estimator sk-toggleable\"><input class=\"sk-toggleable__control sk-hidden--visually\" id=\"sk-estimator-id-1\" type=\"checkbox\" checked><label for=\"sk-estimator-id-1\" class=\"sk-toggleable__label sk-toggleable__label-arrow\">RandomForestClassifier</label><div class=\"sk-toggleable__content\"><pre>RandomForestClassifier(random_state=0)</pre></div></div></div></div></div>"
     },
     "execution_count": 2,
     "metadata": {},
     "output_type": "execute_result"
    }
   ],
   "source": [
    "from sklearn.ensemble import RandomForestClassifier\n",
    "clf = RandomForestClassifier(random_state=0)\n",
    "X = [[ 1,  2,  3],  # 2 samples, 3 features\n",
    "     [11, 12, 13]]\n",
    "y = [0, 1]  # classes of each sample\n",
    "clf.fit(X, y)\n"
   ]
  },
  {
   "cell_type": "code",
   "execution_count": null,
   "outputs": [],
   "source": [],
   "metadata": {
    "collapsed": false
   }
  },
  {
   "cell_type": "code",
   "execution_count": 15,
   "outputs": [
    {
     "data": {
      "text/plain": "array([0, 1])"
     },
     "execution_count": 15,
     "metadata": {},
     "output_type": "execute_result"
    }
   ],
   "source": [
    "clf.predict(X)"
   ],
   "metadata": {
    "collapsed": false,
    "ExecuteTime": {
     "end_time": "2023-07-25T16:34:40.699992469Z",
     "start_time": "2023-07-25T16:34:40.665319039Z"
    }
   }
  },
  {
   "cell_type": "code",
   "execution_count": 3,
   "outputs": [
    {
     "name": "stdout",
     "output_type": "stream",
     "text": [
      "x\n",
      " [[ 0.03807591  0.05068012  0.06169621  0.02187239 -0.0442235  -0.03482076\n",
      "  -0.04340085 -0.00259226  0.01990749 -0.01764613]\n",
      " [-0.00188202 -0.04464164 -0.05147406 -0.02632753 -0.00844872 -0.01916334\n",
      "   0.07441156 -0.03949338 -0.06833155 -0.09220405]\n",
      " [ 0.08529891  0.05068012  0.04445121 -0.00567042 -0.04559945 -0.03419447\n",
      "  -0.03235593 -0.00259226  0.00286131 -0.02593034]]\n",
      "y\n",
      " [151.  75. 141.]\n"
     ]
    }
   ],
   "source": [
    "from sklearn.datasets import load_diabetes\n",
    "x, y = load_diabetes(return_X_y=True) # x - данные, y - метки, которые хар-ют запись из набора данных\n",
    "\n",
    "print('x\\n', x[:3])\n",
    "print('y\\n', y[:3])"
   ],
   "metadata": {
    "collapsed": false,
    "ExecuteTime": {
     "end_time": "2023-07-29T13:26:17.974532352Z",
     "start_time": "2023-07-29T13:26:17.336335127Z"
    }
   }
  },
  {
   "cell_type": "code",
   "execution_count": 4,
   "outputs": [],
   "source": [
    "from sklearn.model_selection import train_test_split # функция разбивает выборку случ образом на тестовую и обучающую\n",
    "\n",
    "x_train, x_test, y_train, y_test = train_test_split(x, y) # разбиваются по принципу площадей: (A-b)^2 + b^2 + 2*(A-b)*b, где 1) xtr, 2) ytst, 3) xtst and ytr\n"
   ],
   "metadata": {
    "collapsed": false,
    "ExecuteTime": {
     "end_time": "2023-07-29T13:26:26.160589047Z",
     "start_time": "2023-07-29T13:26:26.080596223Z"
    }
   }
  },
  {
   "cell_type": "code",
   "execution_count": 5,
   "outputs": [
    {
     "name": "stdout",
     "output_type": "stream",
     "text": [
      "before:\n",
      " [[-0.12727     1.05914818  0.57467993  1.09568821  0.80336908  1.16599617\n",
      "  -0.83507915  1.49382029  0.51257209  0.58777564]\n",
      " [-1.6904006  -0.94415495 -0.25855628 -0.15355451 -1.39356952 -1.21662182\n",
      "  -0.04555845 -0.85375682 -0.86563592 -0.0290161 ]\n",
      " [-0.9088353  -0.94415495  1.32020707 -1.32931236 -0.62321443 -0.50774374\n",
      "  -0.20346259 -0.07123112 -0.03272212  0.41154943]]\n"
     ]
    }
   ],
   "source": [
    "from sklearn.preprocessing import StandardScaler # Стандартизация - техника преобразования значений признака (Feature), адаптирующая признаки с разными диапазонами значений. приравнивание среднего значения к нулю или стандартного отклонения к единице (стремление привести данные к нормальному распределению). Стандартизированные данные содержат ту же инфу, но имеют среднее значение 0 и отклонение 1. после масштабирования данных мат. природа алгоритмов позволяет лучше с ними работать (svm k-means)\n",
    "\n",
    "skaler = StandardScaler().fit(x_train)\n",
    "stded_X = skaler.transform(x_train)\n",
    "\n",
    "# print('after:\\n', x_train[:3])\n",
    "print('before:\\n', stded_X[:3])\n"
   ],
   "metadata": {
    "collapsed": false,
    "ExecuteTime": {
     "end_time": "2023-07-29T13:26:28.393785619Z",
     "start_time": "2023-07-29T13:26:28.303107084Z"
    }
   }
  },
  {
   "cell_type": "markdown",
   "source": [
    "Нормализация\n",
    "В машинном обучениии нормализацией называют метод предобработки числовых признаков в обучающих наборах данных с целью приведения их к некоторой общей шкале без потери информации о различии диапазонов. Нормализация подразумевает изменение диапазонов в данных без изменения формы распределения.\n",
    "Предположим, у вас есть набор данных с различными единицами: температура в Кельвинах, относительная влажность и день года. Мы можем увидеть следующие диапазоны для каждой функции. Температура\n",
    "\n"
   ],
   "metadata": {
    "collapsed": false
   }
  },
  {
   "cell_type": "code",
   "execution_count": 6,
   "outputs": [
    {
     "name": "stdout",
     "output_type": "stream",
     "text": [
      "before:\n",
      " [[-0.20427744  0.37908774 -0.05448264 -0.29994037 -0.08378081 -0.10352195\n",
      "   0.44644443 -0.29541086 -0.61619335 -0.19395917]\n",
      " [ 0.17392029  0.54139651  0.02581501 -0.06057497 -0.06085695  0.11642895\n",
      "  -0.54229388  0.36650854  0.24236458 -0.40974967]\n",
      " [-0.35461142 -0.20252502 -0.18462464 -0.36934575 -0.45656089 -0.51171411\n",
      "   0.10374778 -0.34657776 -0.09205986 -0.23038636]]\n"
     ]
    }
   ],
   "source": [
    "from sklearn.preprocessing import Normalizer\n",
    "\n",
    "scaler = Normalizer().fit(x_test)\n",
    "normed_X = scaler.transform(x_test)\n",
    "\n",
    "# print('after:\\n', x_train[:3])\n",
    "print('before:\\n', normed_X[:3])\n"
   ],
   "metadata": {
    "collapsed": false,
    "ExecuteTime": {
     "end_time": "2023-07-29T13:26:31.900478192Z",
     "start_time": "2023-07-29T13:26:31.498807902Z"
    }
   }
  },
  {
   "cell_type": "code",
   "execution_count": null,
   "outputs": [],
   "source": [
    "# записываем людях рост, зп и вес\n",
    "\n",
    "data = [[178, 50000, 58], [130, 20000, 110], [190, 80000, 90]]\n",
    "\n",
    "scaler = Normalizer().fit(data)\n",
    "normalized_data = scaler.transform(data)\n",
    "\n",
    "print('after\\n', data[:3])\n",
    "print('before\\n', normalized_data[:3])\n"
   ],
   "metadata": {
    "collapsed": false
   }
  },
  {
   "cell_type": "markdown",
   "source": [
    "Приведение к бинарному виду (Binarization)\n",
    "\n",
    "Бинаризируйте двнные (установите значения функций равными 0 или 1) в соответствии с пороговым значением.\n",
    "\n",
    "Например, если мы выберем пороговое значение = 0.5, то значение набора данных выше этого станет 1, а ниже этого станет 0. Поэтому мы можем назвать его бинаризацией данных или пороговым значением данных. Этот метод полезен, когда у нас есть вероятности в нашем наборе данных и мы хотим преобразовать их в чёткие значения."
   ],
   "metadata": {
    "collapsed": false
   }
  },
  {
   "cell_type": "code",
   "execution_count": 13,
   "outputs": [
    {
     "name": "stdout",
     "output_type": "stream",
     "text": [
      "after\n",
      " [[-0.80401131 -4.59339794 -4.66954808 -2.06198694  3.6153365 ]\n",
      " [ 0.06185149 -1.17780095  1.55733753 -0.63207357  3.45291203]\n",
      " [ 2.65268827  1.43531368  0.54893783 -2.88320138 -1.45154197]\n",
      " [ 4.23842496 -2.50009701  4.92421932  3.57820278  4.07536693]\n",
      " [-2.07038711  1.21315209 -3.11542543 -3.31348183  2.52630498]]\n",
      "before\n",
      " [[0. 0. 0. 0. 1.]\n",
      " [1. 0. 1. 0. 1.]\n",
      " [1. 1. 1. 0. 0.]\n",
      " [1. 0. 1. 1. 1.]\n",
      " [0. 1. 0. 0. 1.]]\n"
     ]
    }
   ],
   "source": [
    "from sklearn.preprocessing import Binarizer\n",
    "import numpy as np\n",
    "\n",
    "X = 10 * np.random.random((5, 5)) - 5\n",
    "\n",
    "binarizer = Binarizer(threshold=0.0).fit(X) # в данном случае порог 0ю0\n",
    "binary_X = binarizer.transform(X)\n",
    "\n",
    "print('after\\n', X[:5])\n",
    "print('before\\n', binary_X[:5])"
   ],
   "metadata": {
    "collapsed": false,
    "ExecuteTime": {
     "end_time": "2023-07-29T13:47:36.039562358Z",
     "start_time": "2023-07-29T13:47:35.957101164Z"
    }
   }
  },
  {
   "cell_type": "code",
   "execution_count": 16,
   "outputs": [
    {
     "data": {
      "text/plain": "array([[0, 1, 1, 0, 0, 1, 1, 0, 0]])"
     },
     "execution_count": 16,
     "metadata": {},
     "output_type": "execute_result"
    }
   ],
   "source": [
    "# Хотим определить прогульщиков (у кого больше N пропусков занятий)\n",
    "\n",
    "absenteeism_num_student = np.array([[3, 21, 23, 0, 0, 100, 10, 7, 5]]) #  количество прогулов от студентов\n",
    "binarizer = Binarizer(threshold=7.0).fit(absenteeism_num_student) # порог\n",
    "binary_absenteeism_num_student = binarizer.transform(absenteeism_num_student)\n",
    "\n",
    "binary_absenteeism_num_student"
   ],
   "metadata": {
    "collapsed": false,
    "ExecuteTime": {
     "end_time": "2023-07-29T13:55:03.083342264Z",
     "start_time": "2023-07-29T13:55:02.984400798Z"
    }
   }
  },
  {
   "cell_type": "markdown",
   "source": [
    "Кодирование категориальных признаков (Encoding categorical features)\n",
    "Кодируйте целевые метки со значениями от 0 до количество_классов_категорий - 1. Таким образом, мы хотим, например, закодировать строковые значения признака в числовые по категориям"
   ],
   "metadata": {
    "collapsed": false
   }
  },
  {
   "cell_type": "code",
   "execution_count": 22,
   "outputs": [
    {
     "data": {
      "text/plain": "array([4, 6, 5, 6, 4, 0, 1, 2, 2, 3])"
     },
     "execution_count": 22,
     "metadata": {},
     "output_type": "execute_result"
    }
   ],
   "source": [
    "from sklearn.preprocessing import LabelEncoder\n",
    "\n",
    "y = np.array(['rus', 'usa', 'ua', 'usa', 'rus', 'bel', 'brus', 'en', 'en', 'ru']) # признак - строковые сокращения страны\n",
    "\n",
    "enc = LabelEncoder()\n",
    "y = enc.fit_transform(y)\n",
    "\n",
    "y # теперь для нашей модели все люди из россии в качестве признака Country будет иметь значение 0"
   ],
   "metadata": {
    "collapsed": false,
    "ExecuteTime": {
     "end_time": "2023-07-29T14:09:43.994311413Z",
     "start_time": "2023-07-29T14:09:43.873670371Z"
    }
   }
  },
  {
   "cell_type": "markdown",
   "source": [
    "Загрузка и настройка моделей\n",
    "Работа с моделями начинается с импорта необходимых нам пакетов, классов, функций\n",
    "\n",
    "# import\n",
    "from sklearn.branch import model_name\n",
    "\n",
    "# create instance\n",
    "model = model_name()\n",
    "\n",
    "# fit model\n",
    "model.fit(X_train, y_train)"
   ],
   "metadata": {
    "collapsed": false
   }
  },
  {
   "cell_type": "markdown",
   "source": [
    "Рассмотрим работу моделей для обучения с учителем и без учителя.\n",
    "При обучении с учителем модель обучается на размеченном наборе данных и предсказывает ответы, которые используются для оценки точности алгоритма на обучающих данных.\n",
    "При обучении без учителя модель использует неразмеченные данные, из которых алгоритс самостоятельно пытается извлечь признаки и зависимости."
   ],
   "metadata": {
    "collapsed": false
   }
  },
  {
   "cell_type": "markdown",
   "source": [
    "Модели для обучения с учителем\n",
    "Линейная регрессия (Linear Regression)\n",
    "\n",
    "Линейная регрессия в машинном обучении - модель зависимости переменной x от одной или нескольких других переменных (факторов, регрессоров, независимых переменных) с линейной функцией зависимости. y = B0 + B1 * x"
   ],
   "metadata": {
    "collapsed": false
   }
  },
  {
   "cell_type": "code",
   "execution_count": 25,
   "outputs": [],
   "source": [
    "from sklearn.linear_model import LinearRegression\n",
    "\n",
    "lr = LinearRegression()"
   ],
   "metadata": {
    "collapsed": false,
    "ExecuteTime": {
     "end_time": "2023-07-29T14:41:06.583614401Z",
     "start_time": "2023-07-29T14:41:06.541104961Z"
    }
   }
  },
  {
   "cell_type": "markdown",
   "source": [
    "Метод опорных векторов (SVM, Support Vector Machine)\n",
    "\n",
    "Работа метода опорных векторов заключается в рисовании линии между разными кластерами точек, которые нужно сгруппировать в классы. С одной стороны линии будут точки, принадлежащие одному классу, с другой стороны - к другому классу\n",
    "\n",
    "Классификатор будет пытаться учеличить расстояние между рисуемыми линиями и точками на разных сторонах, чтобы увеличить свою уверенность определения класса. Когда все точки построены, сторона, на которую они падают - это класс, которому эти точки принадлежат."
   ],
   "metadata": {
    "collapsed": false
   }
  },
  {
   "cell_type": "code",
   "execution_count": null,
   "outputs": [],
   "source": [
    "from sklearn.svm import SVC\n",
    "\n",
    "svc = SVC(kernel='linear') # указываем тип ядра (linear, poly, rbf, sigmoid, precomputed)\n"
   ],
   "metadata": {
    "collapsed": false
   }
  },
  {
   "cell_type": "markdown",
   "source": [
    "Наивный байесовский классификатор (Naive Bayes)\n",
    "\n",
    "Классификатор вычисляет вероятность принадлежности объекта к какому-то классу. Эта вероятность вычисляется из шанса, что какое-то событие произойдёт, с опорой на уже произошедшие события"
   ],
   "metadata": {
    "collapsed": false
   }
  },
  {
   "cell_type": "code",
   "execution_count": 26,
   "outputs": [],
   "source": [
    "from sklearn.naive_bayes import GaussianNB\n",
    "\n",
    "gnb = GaussianNB()"
   ],
   "metadata": {
    "collapsed": false,
    "ExecuteTime": {
     "end_time": "2023-07-29T15:08:35.735196298Z",
     "start_time": "2023-07-29T15:08:35.325839282Z"
    }
   }
  },
  {
   "cell_type": "markdown",
   "source": [
    "Метод k-ближайших соседей (K Nearest Neighbors)\n",
    "\n",
    "Этот метод работает с помощью поиска кратчайших дистанций между тестируемым объектом и ближайшими к нему классифицированным объектам из обучающего набора. Классифицируемый объект будет относиться к тому классу, к которому принадлежит ближайший объект набора.\n"
   ],
   "metadata": {
    "collapsed": false
   }
  },
  {
   "cell_type": "code",
   "execution_count": null,
   "outputs": [],
   "source": [
    "from sklearn import neighbors\n",
    "\n",
    "knn = neighbors.KNeighborsClassifier(n_neighbors= 5) # количество соседей"
   ],
   "metadata": {
    "collapsed": false
   }
  },
  {
   "cell_type": "markdown",
   "source": [
    "Обучение без учителя (Unsupervised learning)\n",
    "\n",
    "Метод главных компонент (PCA - principal component analysis)\n",
    "\n",
    "Метод главных компонент позволяет заменить несколько исходных переменных на меньшее количество новых переменных. Новые искусственные переменные называются главными компонентами."
   ],
   "metadata": {
    "collapsed": false
   }
  },
  {
   "cell_type": "code",
   "execution_count": null,
   "outputs": [],
   "source": [
    "from sklearn.decomposition import PCA\n",
    "pca = PCA(n_components=0.95)"
   ],
   "metadata": {
    "collapsed": false
   }
  },
  {
   "cell_type": "markdown",
   "source": [
    "Метод k-средних (K-Means)\n",
    "\n",
    "Он разбивает множество элементов векторного пространства на заранее известное число кластеров k. Действие алгоритма таково, что он стремится минимизировать среднеквадратичное отклонение на точках каждого кластера. Основная идея заключается в том, что на каждой итерации перевычисляется центр масс для каждого кластера, полученного на предыдущем шаге, затем векторы разбиваются на кластеры вновь в соответствии с тем, какой из новых центров оказался ближе по выбранной метрике."
   ],
   "metadata": {
    "collapsed": false
   }
  },
  {
   "cell_type": "code",
   "execution_count": null,
   "outputs": [],
   "source": [
    "from sklearn.cluster import  KMeans\n",
    "\n",
    "k_means = KMeans(n_clusters= 3, random_state=0)"
   ],
   "metadata": {
    "collapsed": false
   }
  },
  {
   "cell_type": "markdown",
   "source": [
    "Обратим внимание, что у каждой модели есть дополнительные параметры, которые позволяют производить более гибкую настройку модели, что в последствии может повысить её качество\n"
   ],
   "metadata": {
    "collapsed": false
   }
  },
  {
   "cell_type": "markdown",
   "source": [
    "Обучение модели\n",
    "\n",
    "Обучение модели - это обработка набору данных с использованием некоторого алгоритма, который позволяет анализировать предоставленные данные и запоминать полученные результаты, в некотором смысле делать выводы на основе свойств данных.\n",
    "\n",
    "В Scilit-learn обучение модели происходит посредством вызова её метода fit, в который в качестве аргумента передаётся набор данных обучающей выборки."
   ],
   "metadata": {
    "collapsed": false
   }
  },
  {
   "cell_type": "code",
   "execution_count": 37,
   "outputs": [],
   "source": [
    "# С учителем\n",
    "# данные\n",
    "X = np.array([[1, 1], [1, 2], [2, 2], [2, 3]]) # обучающая выборка\n",
    "y = np.dot(X, np.array([1, 2])) + 3 # тестовая выборка\n",
    "\n",
    "# создаём объект модели, настраиваем параметры (normalize=true)\n",
    "lr = LinearRegression()\n",
    "lr.fit(X, y)\n",
    "# обучаем модель, передав обучающую выборку X и тестовую выборку y\n",
    "lr = LinearRegression().fit(X, y)"
   ],
   "metadata": {
    "collapsed": false,
    "ExecuteTime": {
     "end_time": "2023-07-29T16:07:21.052470874Z",
     "start_time": "2023-07-29T16:07:20.928358284Z"
    }
   }
  },
  {
   "cell_type": "code",
   "execution_count": 34,
   "outputs": [
    {
     "name": "stderr",
     "output_type": "stream",
     "text": [
      "/home/divan/.local/lib/python3.11/site-packages/sklearn/cluster/_kmeans.py:870: FutureWarning: The default value of `n_init` will change from 10 to 'auto' in 1.4. Set the value of `n_init` explicitly to suppress the warning\n",
      "  warnings.warn(\n"
     ]
    }
   ],
   "source": [
    "from sklearn.cluster import  KMeans\n",
    "\n",
    "# без учителя\n",
    "\n",
    "X = np.array([[1, 2], [1, 4], [1, 0],\n",
    "              [10, 2], [10, 4], [10, 0]]) # обучающая выборка, тестовой нет\n",
    "\n",
    "kmeans = KMeans(n_clusters=2, random_state=0) # создаём объект модели, настраиваем параметры\n",
    "kmeans = kmeans.fit(X) # обучаем модель"
   ],
   "metadata": {
    "collapsed": false,
    "ExecuteTime": {
     "end_time": "2023-07-29T16:04:52.643395112Z",
     "start_time": "2023-07-29T16:04:52.436837309Z"
    }
   }
  },
  {
   "cell_type": "markdown",
   "source": [
    "Предскажем будущее?\n",
    "После обучения модель способна спрогнозировать результат для новых данных с помощью методов модели predict, predict_proba"
   ],
   "metadata": {
    "collapsed": false
   }
  },
  {
   "cell_type": "code",
   "execution_count": 42,
   "outputs": [
    {
     "name": "stderr",
     "output_type": "stream",
     "text": [
      "/home/divan/.local/lib/python3.11/site-packages/sklearn/cluster/_kmeans.py:870: FutureWarning: The default value of `n_init` will change from 10 to 'auto' in 1.4. Set the value of `n_init` explicitly to suppress the warning\n",
      "  warnings.warn(\n"
     ]
    },
    {
     "name": "stdout",
     "output_type": "stream",
     "text": [
      "predict:  [1 0 1 0 0 0]\n"
     ]
    }
   ],
   "source": [
    "X = np.array([[1, 2], [1, 4], [1, 0],\n",
    "              [10, 2], [10, 4], [10, 0]]) # данные для обучения\n",
    "\n",
    "kmeans = KMeans(n_clusters=2, random_state=0)\n",
    "kmeans = kmeans.fit(X)\n",
    "\n",
    "# тестовые или новые данные для которых мы хотим получить предсказание\n",
    "test = np.array([[5, 1], [10, 3], [2, 1], [11, 1], [9, 3], [9, 1]])\n",
    "\n",
    "y = kmeans.predict(test) # предсказываем)\n",
    "\n",
    "print('predict: ', y)"
   ],
   "metadata": {
    "collapsed": false,
    "ExecuteTime": {
     "end_time": "2023-07-29T16:24:02.803569851Z",
     "start_time": "2023-07-29T16:24:01.738320990Z"
    }
   }
  },
  {
   "cell_type": "code",
   "execution_count": 45,
   "outputs": [
    {
     "name": "stdout",
     "output_type": "stream",
     "text": [
      "predict:  [[0.4 0.6]\n",
      " [0.6 0.4]\n",
      " [0.4 0.6]\n",
      " [0.6 0.4]\n",
      " [0.6 0.4]\n",
      " [0.6 0.4]]\n"
     ]
    }
   ],
   "source": [
    "from sklearn import neighbors\n",
    "\n",
    "X = np.array([[1, 2], [1, 4], [1, 0],\n",
    "              [10, 2], [10, 4], [10, 0]]) # данные для обучения\n",
    "\n",
    "Y = np.array([1, 1, 1, 0, 0, 0]) # тестовые\n",
    "\n",
    "knn = neighbors.KNeighborsClassifier()\n",
    "knn = knn.fit(X, Y)\n",
    "\n",
    "# тестовые или новые данные для которых мы хотим получить предсказание\n",
    "test = np.array([[5, 1], [10, 3], [2, 1], [11, 1], [9, 3], [9, 1]])\n",
    "\n",
    "y = knn.predict_proba(test) # предсказываем)\n",
    "\n",
    "print('predict: ', y) # оцениваем вероятность появления метки"
   ],
   "metadata": {
    "collapsed": false,
    "ExecuteTime": {
     "end_time": "2023-07-29T16:28:36.933135335Z",
     "start_time": "2023-07-29T16:28:36.814894198Z"
    }
   }
  },
  {
   "cell_type": "markdown",
   "source": [
    "Оценка качества модели\n",
    "\n",
    "Оценка качества модели выполняется с использованием тестировых выборки. Проверяется насколько точно модели предсказывает результат на тестовых данных, для которых известны правильные метки. Как правило, используется модуль metrics или встроенные методы модели.\n",
    "\n",
    "# import\n",
    "from sklearn.metrics import metric_name\n",
    "\n",
    "# create instance\n",
    "metric_name(y_test, model.predict(X_test)) # где y_test - real target, predict - predicted target\n",
    "\n"
   ],
   "metadata": {
    "collapsed": false
   }
  },
  {
   "cell_type": "raw",
   "source": [
    "Название метрики  | Что показывает и когда нужна |     Достоинство          |       Недостаток            |\n",
    "_________________________________________________________________________________________________________\n",
    "Средняя абсолютная| Помогает оценить абсолютную  | Удобно трактовать -      | Одинаково оштрафует         |\n",
    "ошибка (МАЕ)      | ошибку - то, насколько число | погрешность измеряется   | алгоритм за расхождение  -  |\n",
    "                  | в прогнозах разошлось с      | в тех же единицах,       | например, в 2 и 200 единиц. |\n",
    "                  | реальным числом.             | что и значения целевой   | Не поможет, если нужно      |\n",
    "                  |                              | переменной.              | будет сравнивать две модели,|\n",
    "                  |                              |                          | предсказывающие одно и то   |\n",
    "                  |                              |                          | же по разным признакам.     |\n",
    "_________________________________________________________________________________________________________\n",
    "Название метрики  | Что показывает и когда нужна |     Достоинство          |       Недостаток            |\n",
    "_________________________________________________________________________________________________________\n",
    "Среднеквадратическ| Эти метрики отличаются ровно | Каждая ошибка имеет      | Менее удобна для понимания, |\n",
    "ая ошибка (MSE)   | одной математической         | свой вес, и большие      | потому что измеряется в     |\n",
    "                  | операцией, поэтому в жизни не| расхождения более        | квадратных единицах.        |\n",
    "                  | выделяются в отдельные       | заметны за счёт          | Не поможет, если нужно      |\n",
    "                  | сущности, используются сообща| возведения в степень.    | будет сравнивать две модели,|\n",
    "                  | для оценки ошибки в прогнозах| Способ её расчёта        | предсказывающие одно и то   |\n",
    "                  |                              | позволяет усиливать      | же по разным признакам.     |\n",
    "                  |                              | штраф за большие         |                             |\n",
    "                  |                              | расхождения в прогнозах  |                             |\n",
    "__________________                                ________________________________________________________\n",
    "Корень из         |                              | Имеет те же преимущества | Не поможет, если нужно      |\n",
    "среднеквадратическ|                              | что и MSE, но более      | будет сравнивать две модели,|\n",
    "ой ошибки (RMSE)  |                              | удобна для понимания -   | предсказывающие одно и то   |\n",
    "                  |                              | погрешность измеряется   | же по разным признакам.     |\n",
    "                  |                              | в тех же единицах, что и |                             |\n",
    "                  |                              | значения целевой         |                             |\n",
    "__________________________________________________________________________________________________________\n",
    "Название метрики  | Что показывает и когда нужна |     Достоинство          |       Недостаток            |\n",
    "__________________________________________________________________________________________________________\n",
    "Средняя абсолютная| Позволяет абстрагироваться от| Легко интерпретировать   | Не подходит для задач, где  |\n",
    "ошибка в процентах| конкретных цифр и быстро     | и можно вылавливать      | нужно работать с реальными  |\n",
    "(MAPE)            | понять, на сколько процентов | ошибки разного веса там, | единицами измерения: рубли, |\n",
    "                  | разошлись прогноз и рещультат| где MSE и MAE показали   | штуки, минуты, прочее       |\n",
    "                  |                              | бы одинаковые расхождения|                             |\n",
    "                  |                              | для двух разных случаев. |                             |\n",
    "__________________________________________________________________________________________________________\n",
    "Название метрики  | Что показывает и когда нужна |     Достоинство          |       Недостаток            |\n",
    "__________________________________________________________________________________________________________\n",
    "Коэффициент       | Помогает понять, какую долю  | Можно сравнивать модели, | Чувствительна к добавлению  |\n",
    "детерминации      | разнообразия данных модель   | обученные на разных      | новых данных.               |\n",
    "(R^2)             | смогла объяснить.            | данных. С ней легко      |                             |\n",
    "                  |                              | оценить качество модели  |                             |\n",
    "                  |                              | (если результат прогнозов|                             |\n",
    "                  |                              | от 0.5 и выше - хорошо). |                             |\n",
    "__________________________________________________________________________________________________________"
   ],
   "metadata": {
    "collapsed": false
   }
  },
  {
   "cell_type": "markdown",
   "source": [
    "metrics scikit learn:\n",
    "\n",
    "        1) classification:\n",
    "\n",
    "                a) accuracy_score\n",
    "                b) balanced_accuracy_score\n",
    "                c) average_precision_score\n",
    "                d) brier_score_loss\n",
    "                e) f1_score\n",
    "                f) log_loss\n",
    "                g) precision_score\n",
    "                h) recall_score\n",
    "                i) jaccard_score\n",
    "                j) roc_auc_score\n",
    "\n",
    "        2) regression:\n",
    "\n",
    "                a) explained_variance_score\n",
    "                b) max_error\n",
    "                c) mean_absolute_error\n",
    "                d) mean_squared_error\n",
    "                e) mean_squared_log_error\n",
    "                f) median_absolute_error\n",
    "                g) r2_score\n",
    "                h) mean_poisson_deviance\n",
    "                i) mean_gamma_deviance"
   ],
   "metadata": {
    "collapsed": false
   }
  },
  {
   "cell_type": "code",
   "execution_count": 70,
   "outputs": [
    {
     "name": "stdout",
     "output_type": "stream",
     "text": [
      "liked function accuracy_score\n"
     ]
    },
    {
     "data": {
      "text/plain": "0.5"
     },
     "execution_count": 70,
     "metadata": {},
     "output_type": "execute_result"
    }
   ],
   "source": [
    "# accuracy_score\n",
    "from sklearn.metrics import accuracy_score\n",
    "print('liked function accuracy_score')\n",
    "\n",
    "y_pred = [1, 0, 0, 1]\n",
    "y_true = [0, 0, 1, 1]\n",
    "\n",
    "accuracy_score(y_true, y_pred)"
   ],
   "metadata": {
    "collapsed": false,
    "ExecuteTime": {
     "end_time": "2023-07-29T19:12:40.175242704Z",
     "start_time": "2023-07-29T19:12:40.137821413Z"
    }
   }
  }
 ],
 "metadata": {
  "kernelspec": {
   "display_name": "Python 3",
   "language": "python",
   "name": "python3"
  },
  "language_info": {
   "codemirror_mode": {
    "name": "ipython",
    "version": 2
   },
   "file_extension": ".py",
   "mimetype": "text/x-python",
   "name": "python",
   "nbconvert_exporter": "python",
   "pygments_lexer": "ipython2",
   "version": "2.7.6"
  }
 },
 "nbformat": 4,
 "nbformat_minor": 0
}
