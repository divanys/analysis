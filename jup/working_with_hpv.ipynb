{
 "cells": [
  {
   "cell_type": "markdown",
   "source": [
    "this is a file where we can view information about the population and the HPV vaccine"
   ],
   "metadata": {
    "collapsed": false
   }
  },
  {
   "cell_type": "markdown",
   "source": [
    "Я хочу решить задачи:\n",
    "    1) Какое количество людей в 2020 году получили первую дозу вакцины от ВПЧ\n",
    "    2) Какое количество людей в 2022 году получили первую дозу вакцины от ВПЧ\n",
    "    3) На основе данных п1 и п2 сделать выводы о том, какова тенденция на вакцинацию от ВПЧ (2020-2022)\n",
    "    4) Выяснить, какие страны в 2022 году не заявляли о первой дозе вакцинации от ВПЧ из ранее вакцинированных\n",
    "\n"
   ],
   "metadata": {
    "collapsed": false
   }
  },
  {
   "cell_type": "markdown",
   "source": [
    "При работе с файлом выяснилось:\n",
    "    1) в основном о вакцинации имеются данные стран в периоде с 2018 по 2022 год\n",
    "    2) некоторые страны имеют статистику от 2010 года, необходимо учитывать это при суммировании.\n",
    "    3) всего имеется 120 стран, заявивших о любом из видов вакцинации\n"
   ],
   "metadata": {
    "collapsed": false
   }
  },
  {
   "cell_type": "markdown",
   "source": [
    "Список действий для 4 задачи:\n",
    "    1) всего за 2022 год заявило 118 стран\n",
    "    2) стран 120\n",
    "    3) создать список стран имеющихся и заявивших\n",
    "    4) сравнить списки и найти эти страны"
   ],
   "metadata": {
    "collapsed": false
   }
  },
  {
   "cell_type": "markdown",
   "source": [
    "columns:\n",
    "iso3c - Country Codes\n",
    "country - Country\n",
    "year - year\n",
    "vaccine - there is only one hpv vaccine in this file\n",
    "vaccine_code - in different countries, the vaccine code is different and for different segments of the population\n",
    "vaccine_desc - vaccine description:\n",
    "   1. Target population who received the first dose of HPV vaccine in the reporting year\n",
    "\n",
    "   2. Target population who received the last days of HPV vaccine in the reporting year\n",
    "\n",
    "   3. Population turning 15 in the reporting year that received any time between age 9- 14 at least one dose of HPV vaccine\n",
    "\n",
    "   4. Population turning 15 in the reporting year that received any time between age 9- 14 the full recommended schedule of HPV vaccine\n",
    "\n",
    "value - number of people"
   ],
   "metadata": {
    "collapsed": false
   }
  },
  {
   "cell_type": "code",
   "execution_count": 1,
   "outputs": [
    {
     "data": {
      "text/plain": "     iso3c   country  year vaccine vaccine_code  \\\n0      ALB   Albania  2022     HPV     PRHPV1_F   \n1      ALB   Albania  2022     HPV     PRHPVC_F   \n2      AND   Andorra  2018     HPV     PRHPV1_F   \n3      AND   Andorra  2019     HPV     PRHPV1_F   \n4      AND   Andorra  2020     HPV     PRHPV1_F   \n...    ...       ...   ...     ...          ...   \n2878   ZWE  Zimbabwe  2022     HPV     15HPV1_F   \n2879   ZWE  Zimbabwe  2019     HPV     15HPVC_F   \n2880   ZWE  Zimbabwe  2020     HPV     15HPVC_F   \n2881   ZWE  Zimbabwe  2021     HPV     15HPVC_F   \n2882   ZWE  Zimbabwe  2022     HPV     15HPVC_F   \n\n                                           vaccine_desc  value  \n0     Target population who received the first dose ...     15  \n1     Target population who received the last dose o...     15  \n2     Target population who received the first dose ...     49  \n3     Target population who received the first dose ...     64  \n4     Target population who received the first dose ...     77  \n...                                                 ...    ...  \n2878  Population turning 15 in the reporting year th...     80  \n2879  Population turning 15 in the reporting year th...     65  \n2880  Population turning 15 in the reporting year th...     65  \n2881  Population turning 15 in the reporting year th...     65  \n2882  Population turning 15 in the reporting year th...     65  \n\n[2883 rows x 7 columns]",
      "text/html": "<div>\n<style scoped>\n    .dataframe tbody tr th:only-of-type {\n        vertical-align: middle;\n    }\n\n    .dataframe tbody tr th {\n        vertical-align: top;\n    }\n\n    .dataframe thead th {\n        text-align: right;\n    }\n</style>\n<table border=\"1\" class=\"dataframe\">\n  <thead>\n    <tr style=\"text-align: right;\">\n      <th></th>\n      <th>iso3c</th>\n      <th>country</th>\n      <th>year</th>\n      <th>vaccine</th>\n      <th>vaccine_code</th>\n      <th>vaccine_desc</th>\n      <th>value</th>\n    </tr>\n  </thead>\n  <tbody>\n    <tr>\n      <th>0</th>\n      <td>ALB</td>\n      <td>Albania</td>\n      <td>2022</td>\n      <td>HPV</td>\n      <td>PRHPV1_F</td>\n      <td>Target population who received the first dose ...</td>\n      <td>15</td>\n    </tr>\n    <tr>\n      <th>1</th>\n      <td>ALB</td>\n      <td>Albania</td>\n      <td>2022</td>\n      <td>HPV</td>\n      <td>PRHPVC_F</td>\n      <td>Target population who received the last dose o...</td>\n      <td>15</td>\n    </tr>\n    <tr>\n      <th>2</th>\n      <td>AND</td>\n      <td>Andorra</td>\n      <td>2018</td>\n      <td>HPV</td>\n      <td>PRHPV1_F</td>\n      <td>Target population who received the first dose ...</td>\n      <td>49</td>\n    </tr>\n    <tr>\n      <th>3</th>\n      <td>AND</td>\n      <td>Andorra</td>\n      <td>2019</td>\n      <td>HPV</td>\n      <td>PRHPV1_F</td>\n      <td>Target population who received the first dose ...</td>\n      <td>64</td>\n    </tr>\n    <tr>\n      <th>4</th>\n      <td>AND</td>\n      <td>Andorra</td>\n      <td>2020</td>\n      <td>HPV</td>\n      <td>PRHPV1_F</td>\n      <td>Target population who received the first dose ...</td>\n      <td>77</td>\n    </tr>\n    <tr>\n      <th>...</th>\n      <td>...</td>\n      <td>...</td>\n      <td>...</td>\n      <td>...</td>\n      <td>...</td>\n      <td>...</td>\n      <td>...</td>\n    </tr>\n    <tr>\n      <th>2878</th>\n      <td>ZWE</td>\n      <td>Zimbabwe</td>\n      <td>2022</td>\n      <td>HPV</td>\n      <td>15HPV1_F</td>\n      <td>Population turning 15 in the reporting year th...</td>\n      <td>80</td>\n    </tr>\n    <tr>\n      <th>2879</th>\n      <td>ZWE</td>\n      <td>Zimbabwe</td>\n      <td>2019</td>\n      <td>HPV</td>\n      <td>15HPVC_F</td>\n      <td>Population turning 15 in the reporting year th...</td>\n      <td>65</td>\n    </tr>\n    <tr>\n      <th>2880</th>\n      <td>ZWE</td>\n      <td>Zimbabwe</td>\n      <td>2020</td>\n      <td>HPV</td>\n      <td>15HPVC_F</td>\n      <td>Population turning 15 in the reporting year th...</td>\n      <td>65</td>\n    </tr>\n    <tr>\n      <th>2881</th>\n      <td>ZWE</td>\n      <td>Zimbabwe</td>\n      <td>2021</td>\n      <td>HPV</td>\n      <td>15HPVC_F</td>\n      <td>Population turning 15 in the reporting year th...</td>\n      <td>65</td>\n    </tr>\n    <tr>\n      <th>2882</th>\n      <td>ZWE</td>\n      <td>Zimbabwe</td>\n      <td>2022</td>\n      <td>HPV</td>\n      <td>15HPVC_F</td>\n      <td>Population turning 15 in the reporting year th...</td>\n      <td>65</td>\n    </tr>\n  </tbody>\n</table>\n<p>2883 rows × 7 columns</p>\n</div>"
     },
     "execution_count": 1,
     "metadata": {},
     "output_type": "execute_result"
    }
   ],
   "source": [
    "import pandas as pd\n",
    "\n",
    "data = pd.read_csv('hpv2022rev_ctry.csv')\n",
    "\n",
    "data"
   ],
   "metadata": {
    "collapsed": false,
    "ExecuteTime": {
     "end_time": "2023-08-10T13:25:52.304493790Z",
     "start_time": "2023-08-10T13:25:52.268877392Z"
    }
   }
  },
  {
   "cell_type": "code",
   "execution_count": 13,
   "outputs": [
    {
     "name": "stdout",
     "output_type": "stream",
     "text": [
      "2020. Sum is: 5727\n"
     ]
    }
   ],
   "source": [
    "# first task. how many people received the first dose of HPV vaccine in 2020\n",
    "vac_desc_1 = data['vaccine_desc'] == 'Target population who received the first dose of HPV vaccine in the reporting year'\n",
    "\n",
    "# list_vac_desc_1_0 = []\n",
    "list_vac_desc_1_1 = []\n",
    "\n",
    "for i in range(len(vac_desc_1)):\n",
    "    if vac_desc_1[i] == 1:\n",
    "        # list_vac_desc_1_0.append(data.value[i])\n",
    "        if data.year[i] == 2020:\n",
    "            list_vac_desc_1_1.append(data.value[i])\n",
    "\n",
    "# print(list_vac_desc_1_0)\n",
    "# print(len(list_vac_desc_1_0))\n",
    "\n",
    "# print(list_vac_desc_1_1)\n",
    "# print(len(list_vac_desc_1_1))\n",
    "\n",
    "print(f'2020. Sum is: {sum(list_vac_desc_1_1)}') # решено"
   ],
   "metadata": {
    "collapsed": false,
    "ExecuteTime": {
     "end_time": "2023-08-10T14:05:30.520285418Z",
     "start_time": "2023-08-10T14:05:30.438606954Z"
    }
   }
  },
  {
   "cell_type": "code",
   "execution_count": 14,
   "outputs": [
    {
     "name": "stdout",
     "output_type": "stream",
     "text": [
      "2022. Sum is: 6930\n"
     ]
    }
   ],
   "source": [
    "# second task. how many people received the first dose of HPV vaccine in 2022\n",
    "vac_desc_1 = data['vaccine_desc'] == 'Target population who received the first dose of HPV vaccine in the reporting year'\n",
    "\n",
    "# list_vac_desc_1_0 = []\n",
    "list_vac_desc_1_1 = []\n",
    "\n",
    "for i in range(len(vac_desc_1)):\n",
    "    if vac_desc_1[i] == 1:\n",
    "        # list_vac_desc_1_0.append(data.value[i])\n",
    "        if data.year[i] == 2022:\n",
    "            list_vac_desc_1_1.append(data.value[i])\n",
    "\n",
    "# print(list_vac_desc_1_0)\n",
    "# print(len(list_vac_desc_1_0))\n",
    "\n",
    "# print(list_vac_desc_1_1)\n",
    "# print(len(list_vac_desc_1_1))\n",
    "\n",
    "print(f'2022. Sum is: {sum(list_vac_desc_1_1)}') # решено"
   ],
   "metadata": {
    "collapsed": false,
    "ExecuteTime": {
     "end_time": "2023-08-10T14:05:54.959370173Z",
     "start_time": "2023-08-10T14:05:54.879946144Z"
    }
   }
  },
  {
   "cell_type": "code",
   "execution_count": 21,
   "outputs": [
    {
     "name": "stdout",
     "output_type": "stream",
     "text": [
      "in 2018: 5183\n",
      "Country: 83\n",
      "\n",
      "in 2019: 6419\n",
      "Country: 100\n",
      "\n",
      "in 2020: 5727\n",
      "Country: 98\n",
      "\n",
      "in 2021: 5733\n",
      "Country: 105\n",
      "\n",
      "in 2022: 6930\n",
      "Country: 118\n",
      "\n"
     ]
    }
   ],
   "source": [
    "vac_desc_1 = data['vaccine_desc'] == 'Target population who received the first dose of HPV vaccine in the reporting year'\n",
    "\n",
    "list_vac_desc_1_0, list_vac_desc_1_1, list_vac_desc_1_2, list_vac_desc_1_3, list_vac_desc_1_4 = [], [], [], [], []\n",
    "\n",
    "for i in range(len(vac_desc_1)):\n",
    "    if vac_desc_1[i] == 1:\n",
    "        if data.year[i] == 2018:\n",
    "            list_vac_desc_1_0.append(data.value[i])\n",
    "        if data.year[i] == 2019:\n",
    "            list_vac_desc_1_1.append(data.value[i])\n",
    "        if data.year[i] == 2020:\n",
    "            list_vac_desc_1_2.append(data.value[i])\n",
    "        if data.year[i] == 2021:\n",
    "            list_vac_desc_1_3.append(data.value[i])\n",
    "        if data.year[i] == 2022:\n",
    "            list_vac_desc_1_4.append(data.value[i])\n",
    "\n",
    "years = [list_vac_desc_1_0, list_vac_desc_1_1, list_vac_desc_1_2, list_vac_desc_1_3, list_vac_desc_1_4]\n",
    "\n",
    "for _ in range(len(years)):\n",
    "    print(f'in 20{18 + _}: {sum(years[_])}\\nCountry: {len(years[_])}\\n')"
   ],
   "metadata": {
    "collapsed": false,
    "ExecuteTime": {
     "end_time": "2023-08-10T14:23:08.920724852Z",
     "start_time": "2023-08-10T14:23:08.779537041Z"
    }
   }
  },
  {
   "cell_type": "code",
   "execution_count": 25,
   "outputs": [
    {
     "name": "stdout",
     "output_type": "stream",
     "text": [
      "120\n"
     ]
    }
   ],
   "source": [
    "count_country = data.country.nunique()\n",
    "\n",
    "print(count_country)"
   ],
   "metadata": {
    "collapsed": false,
    "ExecuteTime": {
     "end_time": "2023-08-10T14:37:46.580045800Z",
     "start_time": "2023-08-10T14:37:46.512837394Z"
    }
   }
  },
  {
   "cell_type": "code",
   "execution_count": 43,
   "outputs": [
    {
     "name": "stdout",
     "output_type": "stream",
     "text": [
      "['ALB', 'AND', 'ARE', 'ARG', 'ARM', 'ATG', 'AUS', 'AUT', 'BEL', 'BFA', 'BGR', 'BHS', 'BLZ', 'BOL', 'BRA', 'BRB', 'BRN', 'BTN', 'BWA', 'CAN', 'CHE', 'CHL', 'CIV', 'CMR', 'COK', 'COL', 'CPV', 'CRI', 'CYP', 'DEU', 'DMA', 'DNK', 'DOM', 'ECU', 'ERI', 'ESP', 'EST', 'ETH', 'FIN', 'FJI', 'FRA', 'FSM', 'GBR', 'GEO', 'GMB', 'GRD', 'GTM', 'GUY', 'HND', 'HUN', 'IDN', 'IRL', 'ISL', 'ISR', 'ITA', 'JAM', 'JPN', 'KEN', 'KGZ', 'KNA', 'KOR', 'LAO', 'LBR', 'LCA', 'LKA', 'LSO', 'LTU', 'LUX', 'LVA', 'MDA', 'MDV', 'MEX', 'MHL', 'MKD', 'MLT', 'MMR', 'MOZ', 'MRT', 'MUS', 'MWI', 'MYS', 'NIU', 'NLD', 'NOR', 'NZL', 'PAN', 'PER', 'PHL', 'PLW', 'PRT', 'PRY', 'RWA', 'SAU', 'SEN', 'SGP', 'SLB', 'SLE', 'SLV', 'SMR', 'SRB', 'SUR', 'SVK', 'SVN', 'SWE', 'SYC', 'THA', 'TKM', 'TON', 'TTO', 'TUV', 'TZA', 'UGA', 'URY', 'USA', 'UZB', 'VCT', 'WSM', 'ZAF', 'ZMB', 'ZWE']\n"
     ]
    }
   ],
   "source": [
    "# fourth task. find out which countries in 2022 did not vaccinate (according to data) from previously vaccinating (2 countries)\n",
    "\n",
    "count_country_0 = []\n",
    "\n",
    "for i in range(len(data.iso3c)):\n",
    "    if data.iso3c[i] not in count_country_0:\n",
    "        count_country_0.append((data.iso3c[i]))\n",
    "# count_country = data.iso3c.value_counts()\n",
    "\n",
    "print(count_country_0)"
   ],
   "metadata": {
    "collapsed": false,
    "ExecuteTime": {
     "end_time": "2023-08-10T16:20:48.439201403Z",
     "start_time": "2023-08-10T16:20:48.368385100Z"
    }
   }
  },
  {
   "cell_type": "code",
   "execution_count": 48,
   "outputs": [
    {
     "name": "stdout",
     "output_type": "stream",
     "text": [
      "['ALB', 'AND', 'ARE', 'ARG', 'ARM', 'AUS', 'AUT', 'BEL', 'BFA', 'BGR', 'BHS', 'BLZ', 'BOL', 'BRA', 'BRB', 'BRN', 'BTN', 'BWA', 'CAN', 'CHE', 'CHL', 'CIV', 'CMR', 'COK', 'COL', 'CPV', 'CRI', 'CYP', 'DEU', 'DMA', 'DNK', 'DOM', 'ECU', 'ERI', 'ESP', 'EST', 'ETH', 'FIN', 'FJI', 'FRA', 'FSM', 'GBR', 'GEO', 'GMB', 'GRD', 'GTM', 'GUY', 'HND', 'HUN', 'IDN', 'IRL', 'ISL', 'ISR', 'ITA', 'JAM', 'JPN', 'KEN', 'KGZ', 'KNA', 'KOR', 'LAO', 'LBR', 'LCA', 'LKA', 'LSO', 'LTU', 'LUX', 'LVA', 'MDA', 'MDV', 'MEX', 'MHL', 'MKD', 'MLT', 'MMR', 'MOZ', 'MRT', 'MUS', 'MWI', 'MYS', 'NIU', 'NLD', 'NOR', 'NZL', 'PAN', 'PER', 'PHL', 'PLW', 'PRT', 'PRY', 'RWA', 'SAU', 'SEN', 'SGP', 'SLB', 'SLE', 'SLV', 'SMR', 'SRB', 'SUR', 'SVK', 'SVN', 'SWE', 'SYC', 'THA', 'TKM', 'TON', 'TTO', 'TUV', 'TZA', 'UGA', 'URY', 'USA', 'UZB', 'WSM', 'ZAF', 'ZMB', 'ZWE']\n"
     ]
    }
   ],
   "source": [
    "count_country_2022 = []\n",
    "vac_desc_1 = data['vaccine_desc'] == 'Target population who received the first dose of HPV vaccine in the reporting year'\n",
    "\n",
    "for i in range(len(data.iso3c)):\n",
    "      if vac_desc_1[i] == 1:\n",
    "        if data.year[i] == 2022:\n",
    "            if data.iso3c[i] not in count_country_2022:\n",
    "                count_country_2022.append((data.iso3c[i]))\n",
    "# count_country = data.iso3c.value_counts()\n",
    "\n",
    "print(count_country_2022)"
   ],
   "metadata": {
    "collapsed": false,
    "ExecuteTime": {
     "end_time": "2023-08-10T16:21:34.832544092Z",
     "start_time": "2023-08-10T16:21:34.766250187Z"
    }
   }
  },
  {
   "cell_type": "code",
   "execution_count": 52,
   "outputs": [
    {
     "name": "stdout",
     "output_type": "stream",
     "text": [
      "ATG\n",
      "VCT\n"
     ]
    }
   ],
   "source": [
    "for i in range(len(count_country_2022)):\n",
    "    if count_country_0[i] not in count_country_2022:\n",
    "        print(count_country_0[i]) # решено"
   ],
   "metadata": {
    "collapsed": false,
    "ExecuteTime": {
     "end_time": "2023-08-10T16:22:04.820762763Z",
     "start_time": "2023-08-10T16:22:04.810001567Z"
    }
   }
  },
  {
   "cell_type": "code",
   "execution_count": 31,
   "outputs": [
    {
     "name": "stdout",
     "output_type": "stream",
     "text": [
      "13\n"
     ]
    },
    {
     "ename": "KeyError",
     "evalue": "'Target population who received the first dose of HPV vaccine in the reporting year'",
     "output_type": "error",
     "traceback": [
      "\u001B[0;31m---------------------------------------------------------------------------\u001B[0m",
      "\u001B[0;31mKeyError\u001B[0m                                  Traceback (most recent call last)",
      "File \u001B[0;32m~/.local/lib/python3.11/site-packages/pandas/core/indexes/base.py:3803\u001B[0m, in \u001B[0;36mIndex.get_loc\u001B[0;34m(self, key, method, tolerance)\u001B[0m\n\u001B[1;32m   3802\u001B[0m \u001B[38;5;28;01mtry\u001B[39;00m:\n\u001B[0;32m-> 3803\u001B[0m     \u001B[38;5;28;01mreturn\u001B[39;00m \u001B[38;5;28;43mself\u001B[39;49m\u001B[38;5;241;43m.\u001B[39;49m\u001B[43m_engine\u001B[49m\u001B[38;5;241;43m.\u001B[39;49m\u001B[43mget_loc\u001B[49m\u001B[43m(\u001B[49m\u001B[43mcasted_key\u001B[49m\u001B[43m)\u001B[49m\n\u001B[1;32m   3804\u001B[0m \u001B[38;5;28;01mexcept\u001B[39;00m \u001B[38;5;167;01mKeyError\u001B[39;00m \u001B[38;5;28;01mas\u001B[39;00m err:\n",
      "File \u001B[0;32m~/.local/lib/python3.11/site-packages/pandas/_libs/index.pyx:138\u001B[0m, in \u001B[0;36mpandas._libs.index.IndexEngine.get_loc\u001B[0;34m()\u001B[0m\n",
      "File \u001B[0;32m~/.local/lib/python3.11/site-packages/pandas/_libs/index.pyx:146\u001B[0m, in \u001B[0;36mpandas._libs.index.IndexEngine.get_loc\u001B[0;34m()\u001B[0m\n",
      "File \u001B[0;32mpandas/_libs/index_class_helper.pxi:49\u001B[0m, in \u001B[0;36mpandas._libs.index.Int64Engine._check_type\u001B[0;34m()\u001B[0m\n",
      "\u001B[0;31mKeyError\u001B[0m: 'Target population who received the first dose of HPV vaccine in the reporting year'",
      "\nThe above exception was the direct cause of the following exception:\n",
      "\u001B[0;31mKeyError\u001B[0m                                  Traceback (most recent call last)",
      "Cell \u001B[0;32mIn[31], line 4\u001B[0m\n\u001B[1;32m      1\u001B[0m count_years \u001B[38;5;241m=\u001B[39m data\u001B[38;5;241m.\u001B[39myear\u001B[38;5;241m.\u001B[39mnunique()\n\u001B[1;32m      2\u001B[0m \u001B[38;5;28mprint\u001B[39m(count_years)\n\u001B[0;32m----> 4\u001B[0m \u001B[43mdata\u001B[49m\u001B[38;5;241;43m.\u001B[39;49m\u001B[43myear\u001B[49m\u001B[38;5;241;43m.\u001B[39;49m\u001B[43mvalue_counts\u001B[49m\u001B[43m(\u001B[49m\u001B[43m)\u001B[49m\u001B[43m[\u001B[49m\u001B[38;5;124;43m'\u001B[39;49m\u001B[38;5;124;43mTarget population who received the first dose of HPV vaccine in the reporting year\u001B[39;49m\u001B[38;5;124;43m'\u001B[39;49m\u001B[43m]\u001B[49m\n",
      "File \u001B[0;32m~/.local/lib/python3.11/site-packages/pandas/core/series.py:981\u001B[0m, in \u001B[0;36mSeries.__getitem__\u001B[0;34m(self, key)\u001B[0m\n\u001B[1;32m    978\u001B[0m     \u001B[38;5;28;01mreturn\u001B[39;00m \u001B[38;5;28mself\u001B[39m\u001B[38;5;241m.\u001B[39m_values[key]\n\u001B[1;32m    980\u001B[0m \u001B[38;5;28;01melif\u001B[39;00m key_is_scalar:\n\u001B[0;32m--> 981\u001B[0m     \u001B[38;5;28;01mreturn\u001B[39;00m \u001B[38;5;28;43mself\u001B[39;49m\u001B[38;5;241;43m.\u001B[39;49m\u001B[43m_get_value\u001B[49m\u001B[43m(\u001B[49m\u001B[43mkey\u001B[49m\u001B[43m)\u001B[49m\n\u001B[1;32m    983\u001B[0m \u001B[38;5;28;01mif\u001B[39;00m is_hashable(key):\n\u001B[1;32m    984\u001B[0m     \u001B[38;5;66;03m# Otherwise index.get_value will raise InvalidIndexError\u001B[39;00m\n\u001B[1;32m    985\u001B[0m     \u001B[38;5;28;01mtry\u001B[39;00m:\n\u001B[1;32m    986\u001B[0m         \u001B[38;5;66;03m# For labels that don't resolve as scalars like tuples and frozensets\u001B[39;00m\n",
      "File \u001B[0;32m~/.local/lib/python3.11/site-packages/pandas/core/series.py:1089\u001B[0m, in \u001B[0;36mSeries._get_value\u001B[0;34m(self, label, takeable)\u001B[0m\n\u001B[1;32m   1086\u001B[0m     \u001B[38;5;28;01mreturn\u001B[39;00m \u001B[38;5;28mself\u001B[39m\u001B[38;5;241m.\u001B[39m_values[label]\n\u001B[1;32m   1088\u001B[0m \u001B[38;5;66;03m# Similar to Index.get_value, but we do not fall back to positional\u001B[39;00m\n\u001B[0;32m-> 1089\u001B[0m loc \u001B[38;5;241m=\u001B[39m \u001B[38;5;28;43mself\u001B[39;49m\u001B[38;5;241;43m.\u001B[39;49m\u001B[43mindex\u001B[49m\u001B[38;5;241;43m.\u001B[39;49m\u001B[43mget_loc\u001B[49m\u001B[43m(\u001B[49m\u001B[43mlabel\u001B[49m\u001B[43m)\u001B[49m\n\u001B[1;32m   1090\u001B[0m \u001B[38;5;28;01mreturn\u001B[39;00m \u001B[38;5;28mself\u001B[39m\u001B[38;5;241m.\u001B[39mindex\u001B[38;5;241m.\u001B[39m_get_values_for_loc(\u001B[38;5;28mself\u001B[39m, loc, label)\n",
      "File \u001B[0;32m~/.local/lib/python3.11/site-packages/pandas/core/indexes/base.py:3805\u001B[0m, in \u001B[0;36mIndex.get_loc\u001B[0;34m(self, key, method, tolerance)\u001B[0m\n\u001B[1;32m   3803\u001B[0m     \u001B[38;5;28;01mreturn\u001B[39;00m \u001B[38;5;28mself\u001B[39m\u001B[38;5;241m.\u001B[39m_engine\u001B[38;5;241m.\u001B[39mget_loc(casted_key)\n\u001B[1;32m   3804\u001B[0m \u001B[38;5;28;01mexcept\u001B[39;00m \u001B[38;5;167;01mKeyError\u001B[39;00m \u001B[38;5;28;01mas\u001B[39;00m err:\n\u001B[0;32m-> 3805\u001B[0m     \u001B[38;5;28;01mraise\u001B[39;00m \u001B[38;5;167;01mKeyError\u001B[39;00m(key) \u001B[38;5;28;01mfrom\u001B[39;00m \u001B[38;5;21;01merr\u001B[39;00m\n\u001B[1;32m   3806\u001B[0m \u001B[38;5;28;01mexcept\u001B[39;00m \u001B[38;5;167;01mTypeError\u001B[39;00m:\n\u001B[1;32m   3807\u001B[0m     \u001B[38;5;66;03m# If we have a listlike key, _check_indexing_error will raise\u001B[39;00m\n\u001B[1;32m   3808\u001B[0m     \u001B[38;5;66;03m#  InvalidIndexError. Otherwise we fall through and re-raise\u001B[39;00m\n\u001B[1;32m   3809\u001B[0m     \u001B[38;5;66;03m#  the TypeError.\u001B[39;00m\n\u001B[1;32m   3810\u001B[0m     \u001B[38;5;28mself\u001B[39m\u001B[38;5;241m.\u001B[39m_check_indexing_error(key)\n",
      "\u001B[0;31mKeyError\u001B[0m: 'Target population who received the first dose of HPV vaccine in the reporting year'"
     ]
    }
   ],
   "source": [
    "count_years = data.year.nunique()\n",
    "print(count_years)\n",
    "\n",
    "data.year.value_counts()"
   ],
   "metadata": {
    "collapsed": false,
    "ExecuteTime": {
     "end_time": "2023-08-10T14:45:02.483956020Z",
     "start_time": "2023-08-10T14:45:01.703375561Z"
    }
   }
  },
  {
   "cell_type": "code",
   "execution_count": null,
   "outputs": [],
   "source": [
    "# fourth task. find out which countries in 2022 did not vaccinate (according to data) from previously vaccinating (2 countries)\n",
    "\n"
   ],
   "metadata": {
    "collapsed": false
   }
  },
  {
   "cell_type": "code",
   "execution_count": null,
   "outputs": [],
   "source": [
    "import seaborn as sns\n",
    "sns.barplot(x = \"class\", y = \"survived\", hue = \"embark_town\", data = data)\n"
   ],
   "metadata": {
    "collapsed": false
   }
  }
 ],
 "metadata": {
  "kernelspec": {
   "display_name": "Python 3",
   "language": "python",
   "name": "python3"
  },
  "language_info": {
   "codemirror_mode": {
    "name": "ipython",
    "version": 2
   },
   "file_extension": ".py",
   "mimetype": "text/x-python",
   "name": "python",
   "nbconvert_exporter": "python",
   "pygments_lexer": "ipython2",
   "version": "2.7.6"
  }
 },
 "nbformat": 4,
 "nbformat_minor": 0
}
