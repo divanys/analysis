{
 "cells": [
  {
   "cell_type": "code",
   "execution_count": 2,
   "metadata": {
    "collapsed": true,
    "ExecuteTime": {
     "end_time": "2023-07-25T12:33:24.188078766Z",
     "start_time": "2023-07-25T12:33:24.095431671Z"
    }
   },
   "outputs": [],
   "source": [
    "import pandas as pd\n",
    "import numpy as np"
   ]
  },
  {
   "cell_type": "code",
   "execution_count": 4,
   "outputs": [
    {
     "data": {
      "text/plain": "   CommentID  \\\n0          0   \n1          1   \n2          2   \n3          3   \n4          4   \n\n                                                             Comment  \\\n0                                             Марти самый ценный СЦИ   \n1  Если человек не сознался, всади ему весь магазин в лицо!\\n      Я   \n2                                                                Топ   \n3                                                     Веселая игра )   \n4                                              Из СВД как из ПКМ :-D   \n\n           Author              DateTime  LikeCount  ReplyCount  \n0      The Finder  2023-07-19T01:00:28Z          0           0  \n1        КиберКот  2023-07-13T16:55:49Z          0           0  \n2  Илья Афанасьев  2023-07-05T12:26:06Z          0           2  \n3        Indiqute  2023-07-04T10:17:46Z          0           0  \n4   someone090909  2023-06-11T12:47:02Z          0           0  ",
      "text/html": "<div>\n<style scoped>\n    .dataframe tbody tr th:only-of-type {\n        vertical-align: middle;\n    }\n\n    .dataframe tbody tr th {\n        vertical-align: top;\n    }\n\n    .dataframe thead th {\n        text-align: right;\n    }\n</style>\n<table border=\"1\" class=\"dataframe\">\n  <thead>\n    <tr style=\"text-align: right;\">\n      <th></th>\n      <th>CommentID</th>\n      <th>Comment</th>\n      <th>Author</th>\n      <th>DateTime</th>\n      <th>LikeCount</th>\n      <th>ReplyCount</th>\n    </tr>\n  </thead>\n  <tbody>\n    <tr>\n      <th>0</th>\n      <td>0</td>\n      <td>Марти самый ценный СЦИ</td>\n      <td>The Finder</td>\n      <td>2023-07-19T01:00:28Z</td>\n      <td>0</td>\n      <td>0</td>\n    </tr>\n    <tr>\n      <th>1</th>\n      <td>1</td>\n      <td>Если человек не сознался, всади ему весь магазин в лицо!\\n      Я</td>\n      <td>КиберКот</td>\n      <td>2023-07-13T16:55:49Z</td>\n      <td>0</td>\n      <td>0</td>\n    </tr>\n    <tr>\n      <th>2</th>\n      <td>2</td>\n      <td>Топ</td>\n      <td>Илья Афанасьев</td>\n      <td>2023-07-05T12:26:06Z</td>\n      <td>0</td>\n      <td>2</td>\n    </tr>\n    <tr>\n      <th>3</th>\n      <td>3</td>\n      <td>Веселая игра )</td>\n      <td>Indiqute</td>\n      <td>2023-07-04T10:17:46Z</td>\n      <td>0</td>\n      <td>0</td>\n    </tr>\n    <tr>\n      <th>4</th>\n      <td>4</td>\n      <td>Из СВД как из ПКМ :-D</td>\n      <td>someone090909</td>\n      <td>2023-06-11T12:47:02Z</td>\n      <td>0</td>\n      <td>0</td>\n    </tr>\n  </tbody>\n</table>\n</div>"
     },
     "execution_count": 4,
     "metadata": {},
     "output_type": "execute_result"
    }
   ],
   "source": [
    "cust_df = pd.read_csv(\"../7XdsLqBdlaQ_comments_all.csv\")\n",
    "cust_df.head()"
   ],
   "metadata": {
    "collapsed": false,
    "ExecuteTime": {
     "end_time": "2023-07-25T12:40:11.158777396Z",
     "start_time": "2023-07-25T12:40:11.104570660Z"
    }
   }
  },
  {
   "cell_type": "code",
   "execution_count": 5,
   "outputs": [
    {
     "data": {
      "text/plain": "   CommentID  \\\n0          0   \n1          1   \n2          2   \n3          3   \n4          4   \n\n                                                             Comment  \\\n0                                             Марти самый ценный СЦИ   \n1  Если человек не сознался, всади ему весь магазин в лицо!\\n      Я   \n2                                                                Топ   \n3                                                     Веселая игра )   \n4                                              Из СВД как из ПКМ :-D   \n\n               DateTime  LikeCount  ReplyCount  \n0  2023-07-19T01:00:28Z          0           0  \n1  2023-07-13T16:55:49Z          0           0  \n2  2023-07-05T12:26:06Z          0           2  \n3  2023-07-04T10:17:46Z          0           0  \n4  2023-06-11T12:47:02Z          0           0  ",
      "text/html": "<div>\n<style scoped>\n    .dataframe tbody tr th:only-of-type {\n        vertical-align: middle;\n    }\n\n    .dataframe tbody tr th {\n        vertical-align: top;\n    }\n\n    .dataframe thead th {\n        text-align: right;\n    }\n</style>\n<table border=\"1\" class=\"dataframe\">\n  <thead>\n    <tr style=\"text-align: right;\">\n      <th></th>\n      <th>CommentID</th>\n      <th>Comment</th>\n      <th>DateTime</th>\n      <th>LikeCount</th>\n      <th>ReplyCount</th>\n    </tr>\n  </thead>\n  <tbody>\n    <tr>\n      <th>0</th>\n      <td>0</td>\n      <td>Марти самый ценный СЦИ</td>\n      <td>2023-07-19T01:00:28Z</td>\n      <td>0</td>\n      <td>0</td>\n    </tr>\n    <tr>\n      <th>1</th>\n      <td>1</td>\n      <td>Если человек не сознался, всади ему весь магазин в лицо!\\n      Я</td>\n      <td>2023-07-13T16:55:49Z</td>\n      <td>0</td>\n      <td>0</td>\n    </tr>\n    <tr>\n      <th>2</th>\n      <td>2</td>\n      <td>Топ</td>\n      <td>2023-07-05T12:26:06Z</td>\n      <td>0</td>\n      <td>2</td>\n    </tr>\n    <tr>\n      <th>3</th>\n      <td>3</td>\n      <td>Веселая игра )</td>\n      <td>2023-07-04T10:17:46Z</td>\n      <td>0</td>\n      <td>0</td>\n    </tr>\n    <tr>\n      <th>4</th>\n      <td>4</td>\n      <td>Из СВД как из ПКМ :-D</td>\n      <td>2023-06-11T12:47:02Z</td>\n      <td>0</td>\n      <td>0</td>\n    </tr>\n  </tbody>\n</table>\n</div>"
     },
     "execution_count": 5,
     "metadata": {},
     "output_type": "execute_result"
    }
   ],
   "source": [
    "df = cust_df.drop('Author', axis=1)\n",
    "df.head()"
   ],
   "metadata": {
    "collapsed": false,
    "ExecuteTime": {
     "end_time": "2023-07-25T12:56:37.828860429Z",
     "start_time": "2023-07-25T12:56:37.796729071Z"
    }
   }
  },
  {
   "cell_type": "code",
   "execution_count": 13,
   "outputs": [
    {
     "name": "stdout",
     "output_type": "stream",
     "text": [
      "  (0, 5169)\t0.5796504834554939\n",
      "  (0, 5717)\t0.5796504834554939\n",
      "  (0, 4614)\t0.49914087442200034\n",
      "  (0, 2611)\t0.28083628957252915\n",
      "  (1, 2494)\t0.3465604330506761\n",
      "  (1, 2559)\t0.374659335885107\n",
      "  (1, 964)\t0.3365315005331437\n",
      "  (1, 1705)\t0.2808865320702915\n",
      "  (1, 1134)\t0.4350905251516392\n",
      "  (1, 4922)\t0.41278717123707026\n",
      "  (1, 2986)\t0.14838307219657895\n",
      "  (1, 5741)\t0.3173722502851415\n",
      "  (1, 1709)\t0.25482515250287413\n",
      "  (2, 5323)\t1.0\n",
      "  (3, 1994)\t0.5117159236209453\n",
      "  (3, 961)\t0.8591547087182627\n",
      "  (4, 3625)\t0.6048223608708834\n",
      "  (4, 2142)\t0.2543769598887039\n",
      "  (4, 4625)\t0.3633756274395215\n",
      "  (4, 2045)\t0.6613927936191063\n",
      "  (5, 2759)\t0.4479287769941885\n",
      "  (5, 788)\t0.4890308506356341\n",
      "  (5, 5383)\t0.37648791703706946\n",
      "  (5, 897)\t0.29257815211704113\n",
      "  (5, 5948)\t0.22441436595848593\n",
      "  :\t:\n",
      "  (1997, 3144)\t0.5210583222933844\n",
      "  (1997, 4239)\t0.4439729234741023\n",
      "  (1997, 2634)\t0.4103286890098526\n",
      "  (1997, 1798)\t0.25892199231757557\n",
      "  (1998, 1660)\t0.41794402123437985\n",
      "  (1998, 2843)\t0.41794402123437985\n",
      "  (1998, 2605)\t0.3965196212918168\n",
      "  (1998, 3394)\t0.3965196212918168\n",
      "  (1998, 2173)\t0.3598943676795759\n",
      "  (1998, 5803)\t0.3018447141247719\n",
      "  (1998, 4706)\t0.28448686415734653\n",
      "  (1998, 5396)\t0.18607258497541523\n",
      "  (1999, 3151)\t0.5969231871254725\n",
      "  (1999, 677)\t0.5446136384664734\n",
      "  (1999, 2088)\t0.3809222562238107\n",
      "  (1999, 5796)\t0.24185106790244112\n",
      "  (1999, 1798)\t0.2446335665420389\n",
      "  (1999, 2611)\t0.28920478429135577\n",
      "  (2000, 5010)\t0.6596079304875728\n",
      "  (2000, 2844)\t0.6257954977452292\n",
      "  (2000, 3355)\t0.4162900107373489\n",
      "  (2001, 2236)\t1.0\n",
      "  (2002, 1014)\t0.5995732553896883\n",
      "  (2002, 1006)\t0.5995732553896883\n",
      "  (2002, 3133)\t0.5301168011323762\n"
     ]
    }
   ],
   "source": [
    "from sklearn.feature_extraction.text import TfidfVectorizer\n",
    "from sklearn.cluster import KMeans\n",
    "import matplotlib.pyplot as plt\n",
    "from sklearn.decomposition import PCA\n",
    "\n",
    "# Извлекаем текст комментариев\n",
    "comments = cust_df['Comment'].values\n",
    "\n",
    "# Преобразуем текст комментариев в TF-IDF представление\n",
    "vectorizer = TfidfVectorizer()\n",
    "X = vectorizer.fit_transform(comments)\n",
    "print(X)\n",
    "# # Применяем алгоритм KMeans для поиска кластеров\n",
    "# kmeans = KMeans(n_clusters=5)\n",
    "# kmeans.fit(X)\n",
    "#\n",
    "# # Выводим информацию о кластерах\n",
    "# clusters = kmeans.predict(X)\n",
    "# cust_df['кластер'] = clusters\n",
    "# print(cust_df.groupby('кластер').count())\n",
    "#\n",
    "# # Визуализируем кластеры\n",
    "# X = X.todense()\n",
    "# pca = PCA(n_components=2)\n",
    "# coords = pca.fit_transform(X)\n",
    "#\n",
    "# plt.scatter(coords[:, 0], coords[:, 1], c=clusters, cmap='viridis')\n",
    "# plt.show()"
   ],
   "metadata": {
    "collapsed": false,
    "ExecuteTime": {
     "end_time": "2023-07-25T14:33:55.915858344Z",
     "start_time": "2023-07-25T14:33:55.803941768Z"
    }
   }
  }
 ],
 "metadata": {
  "kernelspec": {
   "display_name": "Python 3",
   "language": "python",
   "name": "python3"
  },
  "language_info": {
   "codemirror_mode": {
    "name": "ipython",
    "version": 2
   },
   "file_extension": ".py",
   "mimetype": "text/x-python",
   "name": "python",
   "nbconvert_exporter": "python",
   "pygments_lexer": "ipython2",
   "version": "2.7.6"
  }
 },
 "nbformat": 4,
 "nbformat_minor": 0
}
